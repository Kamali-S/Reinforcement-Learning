{
 "cells": [
  {
   "cell_type": "code",
   "execution_count": 1,
   "metadata": {
    "_cell_guid": "b1076dfc-b9ad-4769-8c92-a6c4dae69d19",
    "_uuid": "8f2839f25d086af736a60e9eeb907d3b93b6e0e5"
   },
   "outputs": [],
   "source": [
    "# This Python 3 environment comes with many helpful analytics libraries installed\n",
    "# It is defined by the kaggle/python docker image: https://github.com/kaggle/docker-python\n",
    "# For example, here's several helpful packages to load in \n",
    "\n",
    "import numpy as np # linear algebra\n",
    "import pandas as pd # data processing, CSV file I/O (e.g. pd.read_csv)\n",
    "\n",
    "# Input data files are available in the \"../input/\" directory.\n",
    "# For example, running this (by clicking run or pressing Shift+Enter) will list all files under the input directory\n",
    "\n",
    "import os\n",
    "for dirname, _, filenames in os.walk('/kaggle/input'):\n",
    "    for filename in filenames:\n",
    "        print(os.path.join(dirname, filename))\n",
    "\n",
    "# Any results you write to the current directory are saved as output."
   ]
  },
  {
   "cell_type": "markdown",
   "metadata": {},
   "source": [
    "Temporal-difference:\n",
    "- it is a model free algorithm\n",
    "- it uses the state-vale pair\n",
    "- it updates the table based on difference between the value of next state and value of current state\n",
    "\n",
    "Q-leaning:\n",
    "- type of temporal difference learning\n",
    "- also called Off-policy TD\n",
    "- behavioural policy : greedy \n",
    "- update policy: some policy pi\n",
    "- is uses the state-action pair while updating\n",
    "- it takes the difference between state-action pair of future state that has the maximum value and the state-action pair the policy pi takes"
   ]
  },
  {
   "cell_type": "code",
   "execution_count": 2,
   "metadata": {
    "_cell_guid": "79c7e3d0-c299-4dcb-8224-4455121ee9b0",
    "_uuid": "d629ff2d2480ee46fbb7e2d37f6b5fab8052498a"
   },
   "outputs": [],
   "source": [
    "# Q-learning\n",
    "import numpy as np\n",
    "# to generate random actions and states from the environment available\n",
    "import random\n",
    "# OpenAI which has many inbuilt environments specially for practicing RL problems\n",
    "import gym \n",
    "# to get clear output\n",
    "from IPython.display import clear_output"
   ]
  },
  {
   "cell_type": "code",
   "execution_count": 3,
   "metadata": {},
   "outputs": [
    {
     "name": "stdout",
     "output_type": "stream",
     "text": [
      "+---------+\n",
      "|R: | : :\u001b[34;1mG\u001b[0m|\n",
      "| : | : : |\n",
      "| : : : : |\n",
      "| | : | : |\n",
      "|\u001b[35mY\u001b[0m| : |B:\u001b[43m \u001b[0m|\n",
      "+---------+\n",
      "\n"
     ]
    }
   ],
   "source": [
    "# Create environment\n",
    "# Taxi-v3 is a game \n",
    "enviroment = gym.make(\"Taxi-v3\")\n",
    "enviroment.render()"
   ]
  },
  {
   "cell_type": "code",
   "execution_count": 4,
   "metadata": {},
   "outputs": [
    {
     "name": "stdout",
     "output_type": "stream",
     "text": [
      "Number of states: 500\n",
      "Number of actions: 6\n"
     ]
    }
   ],
   "source": [
    "# what state and action available in the environment\n",
    "print(\"Number of states:\",enviroment.observation_space.n)\n",
    "print(\"Number of actions:\",enviroment.action_space.n)"
   ]
  },
  {
   "cell_type": "markdown",
   "metadata": {},
   "source": [
    "Update function:\n",
    "\n",
    "Q(s, a) ← Q(s, a) + α [R + γQ(s’, a’) − Q(s, a)]"
   ]
  },
  {
   "cell_type": "code",
   "execution_count": 5,
   "metadata": {},
   "outputs": [],
   "source": [
    "# hyper-parameters needed for updation\n",
    "tot_episodes = 10000\n",
    "alpha = 0.1\n",
    "gamma = 0.6\n",
    "epsilon = 0.1\n",
    "\n",
    "# Initializing Q table with zeroes\n",
    "# row: states\n",
    "# column: actions\n",
    "Q = np.zeros([enviroment.observation_space.n, enviroment.action_space.n])"
   ]
  },
  {
   "cell_type": "code",
   "execution_count": 6,
   "metadata": {},
   "outputs": [
    {
     "name": "stdout",
     "output_type": "stream",
     "text": [
      "Episode: 10000\n",
      "+---------+\n",
      "|\u001b[35m\u001b[34;1m\u001b[43mR\u001b[0m\u001b[0m\u001b[0m: | : :G|\n",
      "| : | : : |\n",
      "| : : : : |\n",
      "| | : | : |\n",
      "|Y| : |B: |\n",
      "+---------+\n",
      "  (Dropoff)\n"
     ]
    }
   ],
   "source": [
    "# Training\n",
    "# we use epsilon-greedy for exploration-exploitation\n",
    "for episode in range(tot_episodes):\n",
    "    # selecting a random state\n",
    "    state = enviroment.reset()\n",
    "\n",
    "    reward = 0\n",
    "    # to check whether an episode is over or not\n",
    "    done = False\n",
    "    \n",
    "    while not done:\n",
    "        # we select an action based on epsilon-greedy\n",
    "        if random.uniform(0, 1) < epsilon:\n",
    "            action = enviroment.action_space.sample()\n",
    "        else:\n",
    "            action = np.argmax(Q[state])\n",
    "        \n",
    "        # Giving actions as input to my environment, it returns four values\n",
    "        next_state, reward, done, info = enviroment.step(action) \n",
    "        \n",
    "        q_val = Q[state, action]\n",
    "        arg_max = np.max(Q[next_state])\n",
    "\n",
    "        # Updation formula\n",
    "        new_q_value = ((1 - alpha)*q_val) + (alpha*(reward + gamma * arg_max))\n",
    "        \n",
    "        # Update Q matrix\n",
    "        Q[state, action] = new_q_value\n",
    "        state = next_state\n",
    "    \n",
    "    if (episode + 1) % 100 == 0:\n",
    "        clear_output(wait=True)\n",
    "        print(\"Episode:\",(episode + 1))\n",
    "        enviroment.render()"
   ]
  },
  {
   "cell_type": "markdown",
   "metadata": {},
   "source": [
    "Now the Q table is updated based on the updation formula"
   ]
  },
  {
   "cell_type": "code",
   "execution_count": 7,
   "metadata": {},
   "outputs": [],
   "source": [
    "# Evaluation\n",
    "tot_epochs = 0\n",
    "tot_penalties = 0\n",
    "tot_episodes = 100"
   ]
  },
  {
   "cell_type": "code",
   "execution_count": 8,
   "metadata": {},
   "outputs": [],
   "source": [
    "# Positive reward = -1\n",
    "# Negative Reward = -10\n",
    "\n",
    "for episode in range(tot_episodes):\n",
    "    state = enviroment.reset()\n",
    "    epochs = 0\n",
    "    penalty = 0\n",
    "    reward = 0\n",
    "    \n",
    "    done = False\n",
    "    \n",
    "    while not done:\n",
    "        action = np.argmax(Q[state])\n",
    "        state, reward, done, info = enviroment.step(action)\n",
    "\n",
    "        if reward == -10:\n",
    "            penalty += 1\n",
    "\n",
    "        epochs += 1\n",
    "\n",
    "    tot_penalties += penalty\n",
    "    tot_epochs += epochs"
   ]
  },
  {
   "cell_type": "code",
   "execution_count": 9,
   "metadata": {},
   "outputs": [
    {
     "name": "stdout",
     "output_type": "stream",
     "text": [
      "Epochs per episode: 29.85\n",
      "Penalties per episode: 0.0\n"
     ]
    }
   ],
   "source": [
    "print(\"Epochs per episode:\",tot_epochs / tot_episodes)\n",
    "print(\"Penalties per episode:\",tot_penalties / tot_episodes)"
   ]
  },
  {
   "cell_type": "markdown",
   "metadata": {},
   "source": [
    "**REINFORCE ALGORITHM**"
   ]
  },
  {
   "cell_type": "code",
   "execution_count": 10,
   "metadata": {},
   "outputs": [],
   "source": [
    "import matplotlib.pyplot as plt\n",
    "import copy "
   ]
  },
  {
   "cell_type": "code",
   "execution_count": 11,
   "metadata": {},
   "outputs": [],
   "source": [
    "# hyper-parameters\n",
    "tot_episodes = 1000\n",
    "learning_rate = 0.00025\n",
    "gamma = 0.5\n",
    "episode_rewards = []"
   ]
  },
  {
   "cell_type": "code",
   "execution_count": 12,
   "metadata": {},
   "outputs": [
    {
     "name": "stderr",
     "output_type": "stream",
     "text": [
      "/opt/conda/lib/python3.6/site-packages/gym/logger.py:30: UserWarning: \u001b[33mWARN: Box bound precision lowered by casting to float32\u001b[0m\n",
      "  warnings.warn(colorize('%s: %s'%('WARN', msg % args), 'yellow'))\n"
     ]
    }
   ],
   "source": [
    "env = gym.make('CartPole-v0').env\n",
    "no_of_actions = env.action_space.n\n",
    "no_of_states = env.observation_space.shape[0]"
   ]
  },
  {
   "cell_type": "code",
   "execution_count": 13,
   "metadata": {},
   "outputs": [],
   "source": [
    "# Initialise weights \n",
    "w = np.random.rand(no_of_states, no_of_actions)"
   ]
  },
  {
   "cell_type": "code",
   "execution_count": 14,
   "metadata": {},
   "outputs": [],
   "source": [
    "# Policy is based on a function approximator which is nothing but a neuron\n",
    "# Matrix muntiplication of my states with weights\n",
    "def policy(state,w):\n",
    "    z = state.dot(w)\n",
    "    exp = np.exp(z)\n",
    "    return exp/np.sum(exp)"
   ]
  },
  {
   "cell_type": "code",
   "execution_count": 15,
   "metadata": {},
   "outputs": [],
   "source": [
    "# finding the gradient\n",
    "def Gradient(softmax):\n",
    "    s = softmax.reshape(-1,1)\n",
    "    return np.diagflat(s) - np.dot(s, s.T)"
   ]
  },
  {
   "cell_type": "code",
   "execution_count": 16,
   "metadata": {},
   "outputs": [],
   "source": [
    "def Reinforce_learning(w):\n",
    "    for episode in range(tot_episodes):\n",
    "\n",
    "        # set envrironment to any random state available in the environment\n",
    "        state = env.reset()\n",
    "        gradients = []\n",
    "        rewards = []\n",
    "        tot_reward = 0\n",
    "\n",
    "        while True:\n",
    "            prob = policy(state,w)\n",
    "            action = np.random.choice(no_of_actions, p=prob)\n",
    "            next_state, reward, done, info = env.step(action)\n",
    "            next_state = next_state\n",
    "\n",
    "            # Calculating jacobian softmax gradient \n",
    "            dsoftmax = Gradient(prob)[action]\n",
    "            dlog = dsoftmax / prob[action]\n",
    "            dlog = np.reshape(dlog,(-1,dlog.shape[0]))\n",
    "            # reshaping according to matrix multiplication of state and gradient\n",
    "            state = np.reshape(state,(-1,state.shape[0]))\n",
    "            grad = state.T.dot(dlog)\n",
    "\n",
    "            gradients.append(grad)\n",
    "            rewards.append(reward)\n",
    "\n",
    "            state = next_state\n",
    "\n",
    "            if done:\n",
    "                break\n",
    "\n",
    "        # Weight updation\n",
    "        for i in range(len(gradients)):\n",
    "            w += learning_rate * gradients[i] * sum([ r * (gamma ** r) for t,r in enumerate(rewards[i:])])\n",
    "\n",
    "        episode_rewards.append(sum(rewards)) \n",
    "\n",
    "        print(\"Epsiode:\",episode,\"Score:\",sum(rewards), end='\\r', flush=False) \n",
    "        \n",
    "    return episode_rewards"
   ]
  },
  {
   "cell_type": "code",
   "execution_count": 17,
   "metadata": {},
   "outputs": [
    {
     "name": "stdout",
     "output_type": "stream",
     "text": [
      "Epsiode: 999 Score: 141.0\r"
     ]
    }
   ],
   "source": [
    "Rewards = Reinforce_learning(w)"
   ]
  },
  {
   "cell_type": "code",
   "execution_count": 18,
   "metadata": {},
   "outputs": [
    {
     "data": {
      "image/png": "[encoded data removed]",
      "text/plain": [
       "<Figure size 432x288 with 1 Axes>"
      ]
     },
     "metadata": {
      "needs_background": "light"
     },
     "output_type": "display_data"
    }
   ],
   "source": [
    "# Plotting \n",
    "plt.plot(np.arange(tot_episodes),Rewards)\n",
    "plt.title(\"Episodes vs Reward\")\n",
    "plt.xlabel(\"No of Epsiodes\")\n",
    "plt.ylabel(\"Reward of each episode\")\n",
    "plt.show()\n",
    "env.close()"
   ]
  },
  {
   "cell_type": "markdown",
   "metadata": {},
   "source": [
    "GRID SEARCH CROSS-VALIDATION"
   ]
  },
  {
   "cell_type": "markdown",
   "metadata": {},
   "source": [
    "GridSearchCV: Grid Search Cross-Validation It is used when we dont know the model parameters. It helps in fiinding the best model parameters.\n",
    "\n",
    "Hype-paramters: Defined from heuristics\n",
    "\n",
    "parameters: Defined from experiments\n",
    "\n",
    "So, you just have to mention the hyper-parameters for the parameters that you want for your model. It itself tells the best values."
   ]
  },
  {
   "cell_type": "code",
   "execution_count": 19,
   "metadata": {},
   "outputs": [],
   "source": [
    "from sklearn.model_selection import GridSearchCV"
   ]
  },
  {
   "cell_type": "markdown",
   "metadata": {},
   "source": [
    "params = {'tot_episodes': [10000,20000,30000], 'learning_rate': [0.00025, 0.05, 0.001], 'gamma': [0.5,0.9,0.7]}\n",
    "\n",
    "RL = Reinforce_learning(w)\n",
    "\n",
    "RL_model = GridSearchCV(RL, param_grid = params)"
   ]
  },
  {
   "cell_type": "markdown",
   "metadata": {},
   "source": [
    "RL_model.fit(Rewards)"
   ]
  },
  {
   "cell_type": "markdown",
   "metadata": {},
   "source": [
    "RL_model.fit(Tfidf_data_vector)\n",
    "\n",
    "print(\"Tfidf model: \")\n",
    "Tfidfbest = Tfidfmodel.best_estimator_ # Fitting the best model\n",
    "print(Tfidfmodel.best_estimator_)\n",
    "\n",
    "print(\"TfidfBest parameters:\")\n",
    "print(Tfidfmodel.best_params_)\n",
    "\n",
    "print(\"TfidfBest Likelihood score:\")\n",
    "print(Tfidfmodel.best_score_)"
   ]
  },
  {
   "cell_type": "markdown",
   "metadata": {},
   "source": [
    "OFF-POLICY REINFORCE ALGORITHM"
   ]
  },
  {
   "cell_type": "code",
   "execution_count": 20,
   "metadata": {},
   "outputs": [],
   "source": [
    "off_policy_episode_rewards = []\n",
    "epsilon = 0.5"
   ]
  },
  {
   "cell_type": "code",
   "execution_count": 21,
   "metadata": {},
   "outputs": [],
   "source": [
    "# Initialise weights \n",
    "w = np.random.rand(no_of_states, no_of_actions)"
   ]
  },
  {
   "cell_type": "code",
   "execution_count": 22,
   "metadata": {},
   "outputs": [],
   "source": [
    "def Off_Policy_Reinforce_learning(w):\n",
    "    for episode in range(tot_episodes):\n",
    "\n",
    "        # set envrironment to any random state available in the environment\n",
    "        state = env.reset()\n",
    "        gradients = []\n",
    "        rewards = []\n",
    "        tot_reward = 0\n",
    "\n",
    "        while True:\n",
    "            prob = policy(state,w)\n",
    "            if random.uniform(0, 1) < epsilon:\n",
    "                action = np.random.choice(no_of_actions, p=prob)\n",
    "            else:\n",
    "                temp = []\n",
    "                index = []\n",
    "                for i in w:\n",
    "                    l = list(i)\n",
    "                    temp.append(max(i))\n",
    "                    index.append(l.index(max(i)))\n",
    "                action = index[temp.index(max(temp))]\n",
    "            next_state, reward, done, info = env.step(action)\n",
    "\n",
    "            # Calculating jacobian softmax gradient \n",
    "            dsoftmax = Gradient(prob)[action]\n",
    "            dlog = dsoftmax / prob[action]\n",
    "            dlog = np.reshape(dlog,(-1,dlog.shape[0]))\n",
    "            # reshaping according to matrix multiplication of state and gradient\n",
    "            state = np.reshape(state,(-1,state.shape[0]))\n",
    "            grad = state.T.dot(dlog)\n",
    "\n",
    "            gradients.append(grad)\n",
    "            rewards.append(reward)\n",
    "\n",
    "            state = next_state\n",
    "\n",
    "            if done:\n",
    "                break\n",
    "\n",
    "        # Weight updation\n",
    "        for i in range(len(gradients)):\n",
    "            w += learning_rate * gradients[i] * sum([ r * (gamma ** r) for t,r in enumerate(rewards[i:])])\n",
    "\n",
    "        off_policy_episode_rewards.append(sum(rewards)) \n",
    "\n",
    "        print(\"Epsiode:\",episode,\"Score:\",sum(rewards), end='\\r', flush=False) \n",
    "        \n",
    "    return off_policy_episode_rewards"
   ]
  },
  {
   "cell_type": "code",
   "execution_count": 23,
   "metadata": {},
   "outputs": [
    {
     "name": "stdout",
     "output_type": "stream",
     "text": [
      "Epsiode: 999 Score: 9.0\r"
     ]
    }
   ],
   "source": [
    "Off_Policy_Rewards = Off_Policy_Reinforce_learning(w)"
   ]
  },
  {
   "cell_type": "code",
   "execution_count": 24,
   "metadata": {},
   "outputs": [
    {
     "data": {
      "image/png": "[encoded data removed]",
      "text/plain": [
       "<Figure size 432x288 with 1 Axes>"
      ]
     },
     "metadata": {
      "needs_background": "light"
     },
     "output_type": "display_data"
    }
   ],
   "source": [
    "# Plotting \n",
    "plt.plot(np.arange(tot_episodes),Off_Policy_Rewards)\n",
    "plt.title(\"Episodes vs Reward\")\n",
    "plt.xlabel(\"No of Epsiodes\")\n",
    "plt.ylabel(\"Reward of each episode\")\n",
    "plt.show()\n",
    "env.close()"
   ]
  },
  {
   "cell_type": "code",
   "execution_count": 25,
   "metadata": {},
   "outputs": [],
   "source": [
    "import sys\n",
    "import torch  \n",
    "import gym\n",
    "import numpy as np  \n",
    "import torch.nn as nn\n",
    "import torch.optim as optim\n",
    "import torch.nn.functional as F\n",
    "from torch.autograd import Variable\n",
    "import matplotlib.pyplot as plt\n",
    "import pandas as pd\n",
    "from collections import deque"
   ]
  },
  {
   "cell_type": "code",
   "execution_count": 26,
   "metadata": {},
   "outputs": [],
   "source": [
    "# hyperparameters\n",
    "hidden_size = 256\n",
    "learning_rate = 0.0003\n",
    "\n",
    "# Constants\n",
    "GAMMA = 0.99\n",
    "num_steps = 300\n",
    "max_episodes = 3000"
   ]
  },
  {
   "cell_type": "code",
   "execution_count": 27,
   "metadata": {},
   "outputs": [],
   "source": [
    "class ActorCritic(nn.Module):\n",
    "    def __init__(self, num_inputs, num_actions, hidden_size, learning_rate):\n",
    "        super(ActorCritic, self).__init__()\n",
    "\n",
    "        self.num_actions = num_actions\n",
    "        self.critic_layer = nn.Linear(num_inputs, hidden_size)\n",
    "        self.critic_lag = nn.Linear(hidden_size, 1)\n",
    "\n",
    "        self.actor_layer = nn.Linear(num_inputs, hidden_size)\n",
    "        self.actor_lag = nn.Linear(hidden_size, num_actions)\n",
    "    \n",
    "    def forward(self, state):\n",
    "        state = Variable(torch.from_numpy(state).float().unsqueeze(0))\n",
    "        value = F.relu(self.critic_layer(state))\n",
    "        value = self.critic_lag(value)\n",
    "        \n",
    "        policy_dist = F.relu(self.actor_layer(state))\n",
    "        policy_dist = F.softmax(self.actor_lag(policy_dist), dim=1)\n",
    "\n",
    "        return value, policy_dist"
   ]
  },
  {
   "cell_type": "code",
   "execution_count": 28,
   "metadata": {},
   "outputs": [],
   "source": [
    "def a2c(env):\n",
    "    num_inputs = env.observation_space.shape[0]\n",
    "    num_outputs = env.action_space.n\n",
    "    \n",
    "    actor_critic = ActorCritic(num_inputs, num_outputs, hidden_size, learning_rate)\n",
    "    ac_optimizer = optim.Adam(actor_critic.parameters())\n",
    "\n",
    "    all_lengths = []\n",
    "    average_lengths = []\n",
    "    all_rewards = []\n",
    "    entropy_term = 0\n",
    "\n",
    "    for episode in range(max_episodes):\n",
    "        log_probs = []\n",
    "        values = []\n",
    "        rewards = []\n",
    "\n",
    "        state = env.reset()\n",
    "        \n",
    "        for steps in range(num_steps):\n",
    "            value, policy_dist = actor_critic.forward(state)\n",
    "            value = value.detach().numpy()[0,0]\n",
    "            dist = policy_dist.detach().numpy() \n",
    "\n",
    "            action = np.random.choice(num_outputs, p=np.squeeze(dist))\n",
    "            log_prob = torch.log(policy_dist.squeeze(0)[action])\n",
    "            entropy = -np.sum(np.mean(dist) * np.log(dist))\n",
    "            new_state, reward, done, _ = env.step(action)\n",
    "\n",
    "            rewards.append(reward)\n",
    "            values.append(value)\n",
    "            log_probs.append(log_prob)\n",
    "            entropy_term += entropy\n",
    "            state = new_state\n",
    "            \n",
    "            if done or steps == num_steps-1:\n",
    "                Qval, _ = actor_critic.forward(new_state)\n",
    "                Qval = Qval.detach().numpy()[0,0]\n",
    "                all_rewards.append(np.sum(rewards))\n",
    "                all_lengths.append(steps)\n",
    "                average_lengths.append(np.mean(all_lengths[-10:]))\n",
    "                if episode % 100 == 0:                    \n",
    "                    print(\"Episode:\",episode,\"Reward:\",np.sum(rewards))\n",
    "                break\n",
    "        \n",
    "        # compute Q values\n",
    "        Qvals = np.zeros_like(values)\n",
    "        for t in reversed(range(len(rewards))):\n",
    "            Qval = rewards[t] + GAMMA * Qval\n",
    "            Qvals[t] = Qval\n",
    "  \n",
    "        # Converting values and Q-values to float \n",
    "        values = torch.FloatTensor(values)\n",
    "        Qvals = torch.FloatTensor(Qvals)\n",
    "        log_probs = torch.stack(log_probs)\n",
    "        \n",
    "        # Advantage actor-critic\n",
    "        advantage = Qvals - values\n",
    "        \n",
    "        # Finding loss\n",
    "        actor_loss = (-log_probs * advantage).mean()\n",
    "        critic_loss = 0.5 * advantage.pow(2).mean()\n",
    "        ac_loss = actor_loss + critic_loss + 0.001 * entropy_term\n",
    "\n",
    "        # Resetting the optimizer for next iteration\n",
    "        ac_optimizer.zero_grad()\n",
    "        ac_loss.backward()\n",
    "        ac_optimizer.step()\n",
    "        \n",
    "    return all_rewards,all_lengths,average_lengths"
   ]
  },
  {
   "cell_type": "code",
   "execution_count": 29,
   "metadata": {},
   "outputs": [
    {
     "name": "stderr",
     "output_type": "stream",
     "text": [
      "/opt/conda/lib/python3.6/site-packages/gym/logger.py:30: UserWarning: \u001b[33mWARN: Box bound precision lowered by casting to float32\u001b[0m\n",
      "  warnings.warn(colorize('%s: %s'%('WARN', msg % args), 'yellow'))\n"
     ]
    },
    {
     "name": "stdout",
     "output_type": "stream",
     "text": [
      "Episode: 0 Reward: 18.0\n",
      "Episode: 100 Reward: 35.0\n",
      "Episode: 200 Reward: 133.0\n",
      "Episode: 300 Reward: 85.0\n",
      "Episode: 400 Reward: 117.0\n",
      "Episode: 500 Reward: 200.0\n",
      "Episode: 600 Reward: 200.0\n",
      "Episode: 700 Reward: 200.0\n",
      "Episode: 800 Reward: 200.0\n",
      "Episode: 900 Reward: 27.0\n",
      "Episode: 1000 Reward: 200.0\n",
      "Episode: 1100 Reward: 200.0\n",
      "Episode: 1200 Reward: 200.0\n",
      "Episode: 1300 Reward: 200.0\n",
      "Episode: 1400 Reward: 43.0\n",
      "Episode: 1500 Reward: 113.0\n",
      "Episode: 1600 Reward: 138.0\n",
      "Episode: 1700 Reward: 108.0\n",
      "Episode: 1800 Reward: 150.0\n",
      "Episode: 1900 Reward: 135.0\n",
      "Episode: 2000 Reward: 200.0\n",
      "Episode: 2100 Reward: 15.0\n",
      "Episode: 2200 Reward: 181.0\n",
      "Episode: 2300 Reward: 200.0\n",
      "Episode: 2400 Reward: 200.0\n",
      "Episode: 2500 Reward: 200.0\n",
      "Episode: 2600 Reward: 200.0\n",
      "Episode: 2700 Reward: 16.0\n",
      "Episode: 2800 Reward: 200.0\n",
      "Episode: 2900 Reward: 200.0\n"
     ]
    }
   ],
   "source": [
    "env = gym.make(\"CartPole-v0\")\n",
    "all_rewards, all_lengths, average_lengths = a2c(env)"
   ]
  },
  {
   "cell_type": "code",
   "execution_count": 30,
   "metadata": {},
   "outputs": [
    {
     "data": {
      "image/png": "[encoded data removed]",
      "text/plain": [
       "<Figure size 432x288 with 1 Axes>"
      ]
     },
     "metadata": {
      "needs_background": "light"
     },
     "output_type": "display_data"
    },
    {
     "data": {
      "image/png": "[encoded data removed]",
      "text/plain": [
       "<Figure size 432x288 with 1 Axes>"
      ]
     },
     "metadata": {
      "needs_background": "light"
     },
     "output_type": "display_data"
    }
   ],
   "source": [
    "# Plot results\n",
    "smoothed_rewards = pd.Series.rolling(pd.Series(all_rewards), 10).mean()\n",
    "smoothed_rewards = [elem for elem in smoothed_rewards]\n",
    "plt.plot(all_rewards)\n",
    "plt.plot(smoothed_rewards)\n",
    "plt.plot()\n",
    "plt.xlabel('Episode')\n",
    "plt.ylabel('Reward')\n",
    "plt.show()\n",
    "\n",
    "plt.plot(all_lengths)\n",
    "plt.plot(average_lengths)\n",
    "plt.xlabel('Episode')\n",
    "plt.ylabel('Episode length')\n",
    "plt.show()"
   ]
  },
  {
   "cell_type": "markdown",
   "metadata": {},
   "source": [
    "Deep Deterministic Off-Policy"
   ]
  },
  {
   "cell_type": "markdown",
   "metadata": {},
   "source": [
    "Code Flow:\n",
    "1. Creating Environment\n",
    "2. Replay Buffer for off-policy\n",
    "3. OUNoise for exploration\n",
    "4. Actor-Critic Network\n",
    "5. Target Network\n",
    "6. Finding loss\n",
    "7. Update network"
   ]
  },
  {
   "cell_type": "code",
   "execution_count": 31,
   "metadata": {},
   "outputs": [],
   "source": [
    "class NormalizedEnv(gym.ActionWrapper):\n",
    "    def action(self, action):\n",
    "        act_k = (self.action_space.high - self.action_space.low)/ 2.\n",
    "        act_b = (self.action_space.high + self.action_space.low)/ 2.\n",
    "        return act_k * action + act_b\n",
    "\n",
    "    def reverse_action(self, action):\n",
    "        act_k_inv = 2./(self.action_space.high - self.action_space.low)\n",
    "        act_b = (self.action_space.high + self.action_space.low)/ 2.\n",
    "        return act_k_inv * (action - act_b)"
   ]
  },
  {
   "cell_type": "code",
   "execution_count": 32,
   "metadata": {},
   "outputs": [],
   "source": [
    "class ReplayBuffer:\n",
    "    def __init__(self, max_size):\n",
    "        self.max_size = max_size\n",
    "        self.buffer = deque(maxlen=max_size)\n",
    "    \n",
    "    def push(self, state, action, reward, next_state, done):\n",
    "        experience = (state, action, np.array([reward]), next_state, done)\n",
    "        self.buffer.append(experience)\n",
    "\n",
    "    def sample(self, batch_size):\n",
    "        state_batch = []\n",
    "        action_batch = []\n",
    "        reward_batch = []\n",
    "        next_state_batch = []\n",
    "        done_batch = []\n",
    "\n",
    "        batch = random.sample(self.buffer, batch_size)\n",
    "\n",
    "        for experience in batch:\n",
    "            state, action, reward, next_state, done = experience\n",
    "            state_batch.append(state)\n",
    "            action_batch.append(action)\n",
    "            reward_batch.append(reward)\n",
    "            next_state_batch.append(next_state)\n",
    "            done_batch.append(done)\n",
    "        \n",
    "        return state_batch, action_batch, reward_batch, next_state_batch, done_batch\n",
    "\n",
    "    def __len__(self):\n",
    "        return len(self.buffer)"
   ]
  },
  {
   "cell_type": "code",
   "execution_count": 33,
   "metadata": {},
   "outputs": [],
   "source": [
    "class OUNoise(object):\n",
    "    def __init__(self, action_space, mu=0.0, theta=0.15, max_sigma=0.3, min_sigma=0.3, decay_period=100000):\n",
    "        self.mu           = mu\n",
    "        self.theta        = theta\n",
    "        self.sigma        = max_sigma\n",
    "        self.max_sigma    = max_sigma\n",
    "        self.min_sigma    = min_sigma\n",
    "        self.decay_period = decay_period\n",
    "        self.action_dim   = action_space.shape[0]\n",
    "        self.low          = action_space.low\n",
    "        self.high         = action_space.high\n",
    "        self.reset()\n",
    "        \n",
    "    def reset(self):\n",
    "        self.state = np.ones(self.action_dim) * self.mu\n",
    "        \n",
    "    def evolve_state(self):\n",
    "        x  = self.state\n",
    "        dx = self.theta * (self.mu - x) + self.sigma * np.random.randn(self.action_dim)\n",
    "        self.state = x + dx\n",
    "        return self.state\n",
    "    \n",
    "    def get_action(self, action, t=0):\n",
    "        ou_state = self.evolve_state()\n",
    "        self.sigma = self.max_sigma - (self.max_sigma - self.min_sigma) * min(1.0, t / self.decay_period)\n",
    "        return np.clip(action + ou_state, self.low, self.high)"
   ]
  },
  {
   "cell_type": "code",
   "execution_count": 34,
   "metadata": {},
   "outputs": [],
   "source": [
    "class Critic(nn.Module):\n",
    "    def __init__(self, input_size, hidden_size, output_size):\n",
    "        super(Critic, self).__init__()\n",
    "        self.linear1 = nn.Linear(input_size, hidden_size)\n",
    "        self.linear2 = nn.Linear(hidden_size, hidden_size)\n",
    "        self.linear3 = nn.Linear(hidden_size, output_size)\n",
    "\n",
    "    def forward(self, state, action):\n",
    "        x = torch.cat([state, action], 1)\n",
    "        x = F.relu(self.linear1(x))\n",
    "        x = F.relu(self.linear2(x))\n",
    "        x = self.linear3(x)\n",
    "\n",
    "        return x\n",
    "\n",
    "class Actor(nn.Module):\n",
    "    def __init__(self, input_size, hidden_size, output_size, learning_rate = 3e-4):\n",
    "        super(Actor, self).__init__()\n",
    "        self.linear1 = nn.Linear(input_size, hidden_size)\n",
    "        self.linear2 = nn.Linear(hidden_size, hidden_size)\n",
    "        self.linear3 = nn.Linear(hidden_size, output_size)\n",
    "        \n",
    "    def forward(self,state):\n",
    "        x = F.relu(self.linear1(state))\n",
    "        x = F.relu(self.linear2(x))\n",
    "        x = torch.tanh(self.linear3(x))\n",
    "\n",
    "        return x"
   ]
  },
  {
   "cell_type": "code",
   "execution_count": 35,
   "metadata": {},
   "outputs": [],
   "source": [
    "class DDOPG:\n",
    "    def __init__(self, env, hidden_size=256, actor_learning_rate=0.0001, critic_learning_rate=0.001, gamma=0.99, tau=0.1, max_memory_size=50000):\n",
    "        self.num_states = env.observation_space.shape[0]\n",
    "        self.num_actions = env.action_space.shape[0]\n",
    "        self.gamma = gamma\n",
    "        self.tau = tau\n",
    "\n",
    "        # Building Network\n",
    "        self.actor = Actor(self.num_states, hidden_size, self.num_actions)\n",
    "        self.actor_target = Actor(self.num_states, hidden_size, self.num_actions)\n",
    "        self.critic = Critic(self.num_states + self.num_actions, hidden_size, self.num_actions)\n",
    "        self.critic_target = Critic(self.num_states + self.num_actions, hidden_size, self.num_actions)\n",
    "\n",
    "        for target_param, param in zip(self.actor_target.parameters(), self.actor.parameters()):\n",
    "            target_param.data.copy_(param.data)\n",
    "\n",
    "        for target_param, param in zip(self.critic_target.parameters(), self.critic.parameters()):\n",
    "            target_param.data.copy_(param.data)\n",
    "        \n",
    "        # Training\n",
    "        self.memory = ReplayBuffer(max_memory_size)        \n",
    "        self.critic_criterion  = nn.MSELoss()\n",
    "        self.actor_optimizer  = optim.Adam(self.actor.parameters(), lr=actor_learning_rate)\n",
    "        self.critic_optimizer = optim.Adam(self.critic.parameters(), lr=critic_learning_rate)\n",
    "    \n",
    "    def get_action(self, state):\n",
    "        state = Variable(torch.from_numpy(state).float().unsqueeze(0))\n",
    "        action = self.actor.forward(state)\n",
    "        action = action.detach().numpy()[0,0]\n",
    "        return action\n",
    "    \n",
    "    def update(self, batch_size):\n",
    "        states, actions, rewards, next_states, _ = self.memory.sample(batch_size)\n",
    "        states = torch.FloatTensor(states)\n",
    "        actions = torch.FloatTensor(actions)\n",
    "        rewards = torch.FloatTensor(rewards)\n",
    "        next_states = torch.FloatTensor(next_states)\n",
    "    \n",
    "        # Finding loss\n",
    "        Qvals = self.critic.forward(states, actions)\n",
    "        next_actions = self.actor_target.forward(next_states)\n",
    "        next_Q = self.critic_target.forward(next_states, next_actions.detach())\n",
    "        Qprime = rewards + self.gamma * next_Q\n",
    "        critic_loss = self.critic_criterion(Qvals, Qprime)\n",
    "        policy_loss = -self.critic.forward(states, self.actor.forward(states)).mean()\n",
    "        \n",
    "        # update actor and critic networks\n",
    "        self.actor_optimizer.zero_grad()\n",
    "        policy_loss.backward()\n",
    "        self.actor_optimizer.step()\n",
    "\n",
    "        self.critic_optimizer.zero_grad()\n",
    "        critic_loss.backward() \n",
    "        self.critic_optimizer.step()\n",
    "\n",
    "        # update target networks \n",
    "        for target_param, param in zip(self.actor_target.parameters(), self.actor.parameters()):\n",
    "            target_param.data.copy_(param.data * self.tau + target_param.data * (1.0 - self.tau))\n",
    "       \n",
    "        for target_param, param in zip(self.critic_target.parameters(), self.critic.parameters()):\n",
    "            target_param.data.copy_(param.data * self.tau + target_param.data * (1.0 - self.tau))"
   ]
  },
  {
   "cell_type": "code",
   "execution_count": 36,
   "metadata": {},
   "outputs": [
    {
     "name": "stdout",
     "output_type": "stream",
     "text": [
      "episode: 0 reward: -1309.73\n",
      "episode: 1 reward: -1470.45\n",
      "episode: 2 reward: -1332.21\n",
      "episode: 3 reward: -1335.97\n",
      "episode: 4 reward: -988.26\n",
      "episode: 5 reward: -786.22\n",
      "episode: 6 reward: -1003.1\n",
      "episode: 7 reward: -663.19\n",
      "episode: 8 reward: -623.16\n",
      "episode: 9 reward: -454.04\n",
      "episode: 10 reward: -377.84\n",
      "episode: 11 reward: -251.0\n",
      "episode: 12 reward: -607.4\n",
      "episode: 13 reward: -743.92\n",
      "episode: 14 reward: -763.56\n",
      "episode: 15 reward: -374.81\n",
      "episode: 16 reward: -251.44\n",
      "episode: 17 reward: -247.67\n",
      "episode: 18 reward: -625.0\n",
      "episode: 19 reward: -4.1\n",
      "episode: 20 reward: -615.09\n",
      "episode: 21 reward: -367.2\n",
      "episode: 22 reward: -359.58\n",
      "episode: 23 reward: -382.48\n",
      "episode: 24 reward: -495.53\n",
      "episode: 25 reward: -376.28\n",
      "episode: 26 reward: -480.27\n",
      "episode: 27 reward: -478.45\n",
      "episode: 28 reward: -131.22\n",
      "episode: 29 reward: -125.36\n",
      "episode: 30 reward: -374.74\n",
      "episode: 31 reward: -333.34\n",
      "episode: 32 reward: -486.14\n",
      "episode: 33 reward: -244.05\n",
      "episode: 34 reward: -497.4\n",
      "episode: 35 reward: -246.9\n",
      "episode: 36 reward: -442.24\n",
      "episode: 37 reward: -371.09\n",
      "episode: 38 reward: -368.38\n",
      "episode: 39 reward: -599.87\n",
      "episode: 40 reward: -621.65\n",
      "episode: 41 reward: -623.05\n",
      "episode: 42 reward: -493.17\n",
      "episode: 43 reward: -627.4\n",
      "episode: 44 reward: -246.02\n",
      "episode: 45 reward: -404.18\n",
      "episode: 46 reward: -490.42\n",
      "episode: 47 reward: -248.83\n",
      "episode: 48 reward: -352.49\n",
      "episode: 49 reward: -241.86\n"
     ]
    }
   ],
   "source": [
    "env = NormalizedEnv(gym.make(\"Pendulum-v0\"))\n",
    "\n",
    "agent = DDOPG(env)\n",
    "noise = OUNoise(env.action_space)\n",
    "batch_size = 128\n",
    "rewards = []\n",
    "avg_rewards = []\n",
    "\n",
    "for episode in range(50):\n",
    "    state = env.reset()\n",
    "    noise.reset()\n",
    "    episode_reward = 0\n",
    "    \n",
    "    for step in range(500):\n",
    "        action = agent.get_action(state)\n",
    "        action = noise.get_action(action, step)\n",
    "        new_state, reward, done, _ = env.step(action) \n",
    "        agent.memory.push(state, action, reward, new_state, done)\n",
    "        \n",
    "        if len(agent.memory) > batch_size:\n",
    "            agent.update(batch_size)        \n",
    "        \n",
    "        state = new_state\n",
    "        episode_reward += reward\n",
    "\n",
    "        if done:\n",
    "            print(\"episode:\",episode,\"reward:\",np.round(episode_reward, decimals=2))\n",
    "            break\n",
    "\n",
    "    rewards.append(episode_reward)\n",
    "    # Average reward is calulated with recent 10 rewards obtained\n",
    "    avg_rewards.append(np.mean(rewards[-10:]))"
   ]
  },
  {
   "cell_type": "code",
   "execution_count": 37,
   "metadata": {},
   "outputs": [
    {
     "data": {
      "image/png": "[encoded data removed]",
      "text/plain": [
       "<Figure size 432x288 with 1 Axes>"
      ]
     },
     "metadata": {
      "needs_background": "light"
     },
     "output_type": "display_data"
    }
   ],
   "source": [
    "plt.plot(rewards,label=\"Reward\")\n",
    "plt.plot(avg_rewards,label=\"Average Reward\")\n",
    "plt.plot()\n",
    "plt.xlabel('Episode')\n",
    "plt.ylabel('Reward')\n",
    "plt.legend()\n",
    "plt.show()"
   ]
  }
 ],
 "metadata": {
  "kernelspec": {
   "display_name": "Python 3",
   "language": "python",
   "name": "python3"
  },
  "language_info": {
   "codemirror_mode": {
    "name": "ipython",
    "version": 3
   },
   "file_extension": ".py",
   "mimetype": "text/x-python",
   "name": "python",
   "nbconvert_exporter": "python",
   "pygments_lexer": "ipython3",
   "version": "3.6.6"
  }
 },
 "nbformat": 4,
 "nbformat_minor": 4
}
